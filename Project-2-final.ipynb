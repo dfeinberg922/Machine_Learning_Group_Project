{
 "cells": [
  {
   "cell_type": "markdown",
   "id": "88e1b4fe",
   "metadata": {},
   "source": [
    "# Import the required packages and data"
   ]
  },
  {
   "cell_type": "code",
   "execution_count": 1,
   "id": "829d9848",
   "metadata": {},
   "outputs": [],
   "source": [
    "import pandas as pd\n",
    "import numpy as np\n",
    "import seaborn as sns\n",
    "from matplotlib import pyplot as plt\n",
    "from datetime import date\n",
    "from sklearn.preprocessing import LabelEncoder\n",
    "from imblearn.over_sampling import RandomOverSampler\n",
    "from sklearn.preprocessing import MinMaxScaler\n",
    "from sklearn.model_selection import train_test_split\n",
    "from sklearn.linear_model import LogisticRegression\n",
    "from sklearn.tree import DecisionTreeClassifier\n",
    "from sklearn.ensemble import RandomForestClassifier\n",
    "from sklearn.neighbors import KNeighborsClassifier\n",
    "from sklearn.naive_bayes import GaussianNB\n",
    "from sklearn.metrics import accuracy_score\n",
    "from sklearn.metrics import confusion_matrix\n",
    "from sklearn.metrics import roc_curve\n",
    "from sklearn.metrics import classification_report\n",
    "import warnings\n",
    "warnings.simplefilter(\"ignore\")\n",
    "\n",
    "\n",
    "from tensorflow.keras.wrappers.scikit_learn import KerasClassifier\n",
    "from tensorflow.keras import utils\n",
    "# for modeling\n",
    "from tensorflow.keras.models import Sequential\n",
    "from tensorflow.keras.layers import Dense, Dropout\n",
    "from tensorflow.keras.callbacks import EarlyStopping"
   ]
  },
  {
   "cell_type": "code",
   "execution_count": 2,
   "id": "1e41dc24",
   "metadata": {},
   "outputs": [
    {
     "data": {
      "text/html": [
       "<div>\n",
       "<style scoped>\n",
       "    .dataframe tbody tr th:only-of-type {\n",
       "        vertical-align: middle;\n",
       "    }\n",
       "\n",
       "    .dataframe tbody tr th {\n",
       "        vertical-align: top;\n",
       "    }\n",
       "\n",
       "    .dataframe thead th {\n",
       "        text-align: right;\n",
       "    }\n",
       "</style>\n",
       "<table border=\"1\" class=\"dataframe\">\n",
       "  <thead>\n",
       "    <tr style=\"text-align: right;\">\n",
       "      <th></th>\n",
       "      <th>trans_date_trans_time</th>\n",
       "      <th>cc_num</th>\n",
       "      <th>merchant</th>\n",
       "      <th>category</th>\n",
       "      <th>amt</th>\n",
       "      <th>first</th>\n",
       "      <th>last</th>\n",
       "      <th>gender</th>\n",
       "      <th>street</th>\n",
       "      <th>city</th>\n",
       "      <th>...</th>\n",
       "      <th>lat</th>\n",
       "      <th>long</th>\n",
       "      <th>city_pop</th>\n",
       "      <th>job</th>\n",
       "      <th>dob</th>\n",
       "      <th>trans_num</th>\n",
       "      <th>unix_time</th>\n",
       "      <th>merch_lat</th>\n",
       "      <th>merch_long</th>\n",
       "      <th>is_fraud</th>\n",
       "    </tr>\n",
       "  </thead>\n",
       "  <tbody>\n",
       "    <tr>\n",
       "      <th>0</th>\n",
       "      <td>2020-06-21 12:14:25</td>\n",
       "      <td>2291163933867244</td>\n",
       "      <td>fraud_Kirlin and Sons</td>\n",
       "      <td>personal_care</td>\n",
       "      <td>2.86</td>\n",
       "      <td>Jeff</td>\n",
       "      <td>Elliott</td>\n",
       "      <td>M</td>\n",
       "      <td>351 Darlene Green</td>\n",
       "      <td>Columbia</td>\n",
       "      <td>...</td>\n",
       "      <td>33.9659</td>\n",
       "      <td>-80.9355</td>\n",
       "      <td>333497</td>\n",
       "      <td>Mechanical engineer</td>\n",
       "      <td>1968-03-19</td>\n",
       "      <td>2da90c7d74bd46a0caf3777415b3ebd3</td>\n",
       "      <td>1371816865</td>\n",
       "      <td>33.986391</td>\n",
       "      <td>-81.200714</td>\n",
       "      <td>0</td>\n",
       "    </tr>\n",
       "    <tr>\n",
       "      <th>1</th>\n",
       "      <td>2020-06-21 12:14:33</td>\n",
       "      <td>3573030041201292</td>\n",
       "      <td>fraud_Sporer-Keebler</td>\n",
       "      <td>personal_care</td>\n",
       "      <td>29.84</td>\n",
       "      <td>Joanne</td>\n",
       "      <td>Williams</td>\n",
       "      <td>F</td>\n",
       "      <td>3638 Marsh Union</td>\n",
       "      <td>Altonah</td>\n",
       "      <td>...</td>\n",
       "      <td>40.3207</td>\n",
       "      <td>-110.4360</td>\n",
       "      <td>302</td>\n",
       "      <td>Sales professional, IT</td>\n",
       "      <td>1990-01-17</td>\n",
       "      <td>324cc204407e99f51b0d6ca0055005e7</td>\n",
       "      <td>1371816873</td>\n",
       "      <td>39.450498</td>\n",
       "      <td>-109.960431</td>\n",
       "      <td>0</td>\n",
       "    </tr>\n",
       "    <tr>\n",
       "      <th>2</th>\n",
       "      <td>2020-06-21 12:14:53</td>\n",
       "      <td>3598215285024754</td>\n",
       "      <td>fraud_Swaniawski, Nitzsche and Welch</td>\n",
       "      <td>health_fitness</td>\n",
       "      <td>41.28</td>\n",
       "      <td>Ashley</td>\n",
       "      <td>Lopez</td>\n",
       "      <td>F</td>\n",
       "      <td>9333 Valentine Point</td>\n",
       "      <td>Bellmore</td>\n",
       "      <td>...</td>\n",
       "      <td>40.6729</td>\n",
       "      <td>-73.5365</td>\n",
       "      <td>34496</td>\n",
       "      <td>Librarian, public</td>\n",
       "      <td>1970-10-21</td>\n",
       "      <td>c81755dbbbea9d5c77f094348a7579be</td>\n",
       "      <td>1371816893</td>\n",
       "      <td>40.495810</td>\n",
       "      <td>-74.196111</td>\n",
       "      <td>0</td>\n",
       "    </tr>\n",
       "    <tr>\n",
       "      <th>3</th>\n",
       "      <td>2020-06-21 12:15:15</td>\n",
       "      <td>3591919803438423</td>\n",
       "      <td>fraud_Haley Group</td>\n",
       "      <td>misc_pos</td>\n",
       "      <td>60.05</td>\n",
       "      <td>Brian</td>\n",
       "      <td>Williams</td>\n",
       "      <td>M</td>\n",
       "      <td>32941 Krystal Mill Apt. 552</td>\n",
       "      <td>Titusville</td>\n",
       "      <td>...</td>\n",
       "      <td>28.5697</td>\n",
       "      <td>-80.8191</td>\n",
       "      <td>54767</td>\n",
       "      <td>Set designer</td>\n",
       "      <td>1987-07-25</td>\n",
       "      <td>2159175b9efe66dc301f149d3d5abf8c</td>\n",
       "      <td>1371816915</td>\n",
       "      <td>28.812398</td>\n",
       "      <td>-80.883061</td>\n",
       "      <td>0</td>\n",
       "    </tr>\n",
       "    <tr>\n",
       "      <th>4</th>\n",
       "      <td>2020-06-21 12:15:17</td>\n",
       "      <td>3526826139003047</td>\n",
       "      <td>fraud_Johnston-Casper</td>\n",
       "      <td>travel</td>\n",
       "      <td>3.19</td>\n",
       "      <td>Nathan</td>\n",
       "      <td>Massey</td>\n",
       "      <td>M</td>\n",
       "      <td>5783 Evan Roads Apt. 465</td>\n",
       "      <td>Falmouth</td>\n",
       "      <td>...</td>\n",
       "      <td>44.2529</td>\n",
       "      <td>-85.0170</td>\n",
       "      <td>1126</td>\n",
       "      <td>Furniture designer</td>\n",
       "      <td>1955-07-06</td>\n",
       "      <td>57ff021bd3f328f8738bb535c302a31b</td>\n",
       "      <td>1371816917</td>\n",
       "      <td>44.959148</td>\n",
       "      <td>-85.884734</td>\n",
       "      <td>0</td>\n",
       "    </tr>\n",
       "  </tbody>\n",
       "</table>\n",
       "<p>5 rows × 22 columns</p>\n",
       "</div>"
      ],
      "text/plain": [
       "  trans_date_trans_time            cc_num  \\\n",
       "0   2020-06-21 12:14:25  2291163933867244   \n",
       "1   2020-06-21 12:14:33  3573030041201292   \n",
       "2   2020-06-21 12:14:53  3598215285024754   \n",
       "3   2020-06-21 12:15:15  3591919803438423   \n",
       "4   2020-06-21 12:15:17  3526826139003047   \n",
       "\n",
       "                               merchant        category    amt   first  \\\n",
       "0                 fraud_Kirlin and Sons   personal_care   2.86    Jeff   \n",
       "1                  fraud_Sporer-Keebler   personal_care  29.84  Joanne   \n",
       "2  fraud_Swaniawski, Nitzsche and Welch  health_fitness  41.28  Ashley   \n",
       "3                     fraud_Haley Group        misc_pos  60.05   Brian   \n",
       "4                 fraud_Johnston-Casper          travel   3.19  Nathan   \n",
       "\n",
       "       last gender                       street        city  ...      lat  \\\n",
       "0   Elliott      M            351 Darlene Green    Columbia  ...  33.9659   \n",
       "1  Williams      F             3638 Marsh Union     Altonah  ...  40.3207   \n",
       "2     Lopez      F         9333 Valentine Point    Bellmore  ...  40.6729   \n",
       "3  Williams      M  32941 Krystal Mill Apt. 552  Titusville  ...  28.5697   \n",
       "4    Massey      M     5783 Evan Roads Apt. 465    Falmouth  ...  44.2529   \n",
       "\n",
       "       long  city_pop                     job         dob  \\\n",
       "0  -80.9355    333497     Mechanical engineer  1968-03-19   \n",
       "1 -110.4360       302  Sales professional, IT  1990-01-17   \n",
       "2  -73.5365     34496       Librarian, public  1970-10-21   \n",
       "3  -80.8191     54767            Set designer  1987-07-25   \n",
       "4  -85.0170      1126      Furniture designer  1955-07-06   \n",
       "\n",
       "                          trans_num   unix_time  merch_lat  merch_long  \\\n",
       "0  2da90c7d74bd46a0caf3777415b3ebd3  1371816865  33.986391  -81.200714   \n",
       "1  324cc204407e99f51b0d6ca0055005e7  1371816873  39.450498 -109.960431   \n",
       "2  c81755dbbbea9d5c77f094348a7579be  1371816893  40.495810  -74.196111   \n",
       "3  2159175b9efe66dc301f149d3d5abf8c  1371816915  28.812398  -80.883061   \n",
       "4  57ff021bd3f328f8738bb535c302a31b  1371816917  44.959148  -85.884734   \n",
       "\n",
       "   is_fraud  \n",
       "0         0  \n",
       "1         0  \n",
       "2         0  \n",
       "3         0  \n",
       "4         0  \n",
       "\n",
       "[5 rows x 22 columns]"
      ]
     },
     "execution_count": 2,
     "metadata": {},
     "output_type": "execute_result"
    }
   ],
   "source": [
    "fraudTest = pd.read_csv(\"./Data/fraudTest.csv\", index_col=\"Unnamed: 0\")\n",
    "fraudTest.head()"
   ]
  },
  {
   "cell_type": "markdown",
   "id": "7d7dd44a",
   "metadata": {},
   "source": [
    "# Data Inspection"
   ]
  },
  {
   "cell_type": "code",
   "execution_count": 3,
   "id": "f55684c7",
   "metadata": {},
   "outputs": [
    {
     "name": "stdout",
     "output_type": "stream",
     "text": [
      "<class 'pandas.core.frame.DataFrame'>\n",
      "Int64Index: 555719 entries, 0 to 555718\n",
      "Data columns (total 22 columns):\n",
      " #   Column                 Non-Null Count   Dtype  \n",
      "---  ------                 --------------   -----  \n",
      " 0   trans_date_trans_time  555719 non-null  object \n",
      " 1   cc_num                 555719 non-null  int64  \n",
      " 2   merchant               555719 non-null  object \n",
      " 3   category               555719 non-null  object \n",
      " 4   amt                    555719 non-null  float64\n",
      " 5   first                  555719 non-null  object \n",
      " 6   last                   555719 non-null  object \n",
      " 7   gender                 555719 non-null  object \n",
      " 8   street                 555719 non-null  object \n",
      " 9   city                   555719 non-null  object \n",
      " 10  state                  555719 non-null  object \n",
      " 11  zip                    555719 non-null  int64  \n",
      " 12  lat                    555719 non-null  float64\n",
      " 13  long                   555719 non-null  float64\n",
      " 14  city_pop               555719 non-null  int64  \n",
      " 15  job                    555719 non-null  object \n",
      " 16  dob                    555719 non-null  object \n",
      " 17  trans_num              555719 non-null  object \n",
      " 18  unix_time              555719 non-null  int64  \n",
      " 19  merch_lat              555719 non-null  float64\n",
      " 20  merch_long             555719 non-null  float64\n",
      " 21  is_fraud               555719 non-null  int64  \n",
      "dtypes: float64(5), int64(5), object(12)\n",
      "memory usage: 97.5+ MB\n"
     ]
    }
   ],
   "source": [
    "fraudTest.info()"
   ]
  },
  {
   "cell_type": "code",
   "execution_count": 4,
   "id": "eb117bf5",
   "metadata": {},
   "outputs": [
    {
     "name": "stdout",
     "output_type": "stream",
     "text": [
      "trans_date_trans_time: 544760\n",
      "merchant: 693\n",
      "category: 14\n",
      "first: 341\n",
      "last: 471\n",
      "gender: 2\n",
      "street: 924\n",
      "city: 849\n",
      "state: 50\n",
      "job: 478\n",
      "dob: 910\n",
      "trans_num: 555719\n"
     ]
    }
   ],
   "source": [
    "# inspect all non numeric columns by counting unique values \n",
    "for column in fraudTest.select_dtypes(include = \"object\").columns:\n",
    "    print(f\"{column}: {fraudTest[column].nunique()}\")"
   ]
  },
  {
   "cell_type": "code",
   "execution_count": 5,
   "id": "2e5ed25d",
   "metadata": {},
   "outputs": [
    {
     "data": {
      "text/plain": [
       "Index(['merchant', 'category', 'amt', 'gender', 'street', 'city', 'state',\n",
       "       'zip', 'lat', 'long', 'city_pop', 'job', 'dob', 'trans_num',\n",
       "       'unix_time', 'merch_lat', 'merch_long', 'is_fraud'],\n",
       "      dtype='object')"
      ]
     },
     "execution_count": 5,
     "metadata": {},
     "output_type": "execute_result"
    }
   ],
   "source": [
    "# drop all columns not required for modelling \n",
    "fraudTest.drop([\"trans_date_trans_time\", \"first\", \"last\", \"cc_num\"], axis = 1, inplace = True)\n",
    "fraudTest.columns"
   ]
  },
  {
   "cell_type": "code",
   "execution_count": 6,
   "id": "693d2002",
   "metadata": {},
   "outputs": [
    {
     "data": {
      "text/plain": [
       "merchant      0\n",
       "category      0\n",
       "amt           0\n",
       "gender        0\n",
       "street        0\n",
       "city          0\n",
       "state         0\n",
       "zip           0\n",
       "lat           0\n",
       "long          0\n",
       "city_pop      0\n",
       "job           0\n",
       "dob           0\n",
       "trans_num     0\n",
       "unix_time     0\n",
       "merch_lat     0\n",
       "merch_long    0\n",
       "is_fraud      0\n",
       "dtype: int64"
      ]
     },
     "execution_count": 6,
     "metadata": {},
     "output_type": "execute_result"
    }
   ],
   "source": [
    "# check existence of null rows\n",
    "fraudTest.isna().sum()"
   ]
  },
  {
   "cell_type": "code",
   "execution_count": 7,
   "id": "aa371719",
   "metadata": {},
   "outputs": [
    {
     "data": {
      "text/plain": [
       "0"
      ]
     },
     "execution_count": 7,
     "metadata": {},
     "output_type": "execute_result"
    }
   ],
   "source": [
    "# check existence of duplicate rows\n",
    "fraudTest.duplicated().sum()"
   ]
  },
  {
   "cell_type": "code",
   "execution_count": 6,
   "id": "7971fbb0",
   "metadata": {},
   "outputs": [],
   "source": [
    "# transform date of birth to age\n",
    "fraudTest[\"dob\"] = pd.to_datetime(fraudTest[\"dob\"])\n",
    "\n",
    " \n",
    "def calculateAge(dob):\n",
    "    today = date.today()\n",
    "    age = today.year - dob.year - \\\n",
    "    ((today.month, today.day) < (dob.month, dob.day))\n",
    " \n",
    "    return age\n",
    "\n",
    "age = [] #set age as an empty string \n",
    "\n",
    "for i in fraudTest[\"dob\"]:\n",
    "    onesAge = calculateAge(i)\n",
    "    age.append(onesAge)\n",
    "    \n",
    "# drop the dob variables\n",
    "fraudTest.drop(\"dob\", axis = 1, inplace = True)\n",
    "\n",
    "# add the age column to the dataframe\n",
    "fraudTest[\"age\"] = age"
   ]
  },
  {
   "cell_type": "markdown",
   "id": "366cebc8",
   "metadata": {},
   "source": [
    "# Explanatory Data Analysis"
   ]
  },
  {
   "cell_type": "markdown",
   "id": "37f235d6",
   "metadata": {},
   "source": [
    "## Distribution\n"
   ]
  },
  {
   "cell_type": "code",
   "execution_count": 7,
   "id": "373c96ce",
   "metadata": {},
   "outputs": [
    {
     "data": {
      "image/png": "[encoded data removed]",
      "text/plain": [
       "<Figure size 1008x504 with 1 Axes>"
      ]
     },
     "metadata": {},
     "output_type": "display_data"
    }
   ],
   "source": [
    "# distribution of age \n",
    "%matplotlib inline\n",
    "sns.set()\n",
    "\n",
    "plt.figure(figsize = (14, 7))\n",
    "plt.title(\"Distribution of age\")\n",
    "plt.hist(fraudTest[\"age\"])\n",
    "plt.ylabel(\"Frequency\")\n",
    "plt.xlabel(\"Age\")\n",
    "plt.show()"
   ]
  },
  {
   "cell_type": "markdown",
   "id": "182ecf9b",
   "metadata": {},
   "source": [
    "## Composition"
   ]
  },
  {
   "cell_type": "code",
   "execution_count": 8,
   "id": "56ce3701",
   "metadata": {},
   "outputs": [
    {
     "name": "stdout",
     "output_type": "stream",
     "text": [
      "0    553574\n",
      "1      2145\n",
      "Name: is_fraud, dtype: int64\n"
     ]
    },
    {
     "data": {
      "image/png": "[encoded data removed]",
      "text/plain": [
       "<Figure size 1008x504 with 1 Axes>"
      ]
     },
     "metadata": {},
     "output_type": "display_data"
    }
   ],
   "source": [
    "plt.figure(figsize = (14, 7))\n",
    "fraudTest[\"is_fraud\"].value_counts().plot(kind = \"pie\")\n",
    "print(fraudTest[\"is_fraud\"].value_counts())"
   ]
  },
  {
   "cell_type": "markdown",
   "id": "15fa0c55",
   "metadata": {},
   "source": [
    "## Relationship"
   ]
  },
  {
   "cell_type": "code",
   "execution_count": null,
   "id": "dfb29c07",
   "metadata": {},
   "outputs": [
    {
     "data": {
      "text/plain": [
       "<seaborn.axisgrid.FacetGrid at 0x7fe4c8fe6d00>"
      ]
     },
     "execution_count": 9,
     "metadata": {},
     "output_type": "execute_result"
    }
   ],
   "source": [
    "# plot a relational plot to get the relation between different variables \n",
    "sns.relplot(y = 'unix_time', x = 'amt' , hue = 'is_fraud',data = fraudTest)"
   ]
  },
  {
   "cell_type": "markdown",
   "id": "36583eb3",
   "metadata": {},
   "source": [
    "## Comparison "
   ]
  },
  {
   "cell_type": "code",
   "execution_count": null,
   "id": "28b9980a",
   "metadata": {},
   "outputs": [],
   "source": [
    "%matplotlib inline\n",
    "sns.set()\n",
    "\n",
    "plt.figure(figsize = (14, 7))\n",
    "plt.title('Comparison between males and females', fontsize = 20)\n",
    "fraudTest[\"gender\"].value_counts().plot(kind = \"bar\")\n",
    "plt.xlabel(\"Counts\")\n",
    "plt.ylabel(\"Gender\")\n",
    "plt.show()"
   ]
  },
  {
   "cell_type": "markdown",
   "id": "1af4f8a2",
   "metadata": {},
   "source": [
    "## Coorelation"
   ]
  },
  {
   "cell_type": "code",
   "execution_count": 13,
   "id": "ed0159e9",
   "metadata": {},
   "outputs": [
    {
     "data": {
      "text/plain": [
       "Text(0.5, 1.0, 'Correlation between variables')"
      ]
     },
     "execution_count": 13,
     "metadata": {},
     "output_type": "execute_result"
    },
    {
     "data": {
      "image/png": "[encoded data removed]",
      "text/plain": [
       "<Figure size 1008x504 with 2 Axes>"
      ]
     },
     "metadata": {},
     "output_type": "display_data"
    }
   ],
   "source": [
    "%matplotlib inline\n",
    "sns.set()\n",
    "\n",
    "plt.figure(figsize = (14, 7))\n",
    "ax = sns.heatmap(fraudTest.corr(), cmap = \"PuBu\")\n",
    "ax.set_title(\"Correlation between variables\", fontsize = 20)\n"
   ]
  },
  {
   "cell_type": "markdown",
   "id": "3ece9347",
   "metadata": {},
   "source": [
    "# Data Transformation"
   ]
  },
  {
   "cell_type": "markdown",
   "id": "da12e66f",
   "metadata": {},
   "source": [
    "## Label Encoding "
   ]
  },
  {
   "cell_type": "code",
   "execution_count": 14,
   "id": "4d13d522",
   "metadata": {
    "scrolled": true
   },
   "outputs": [
    {
     "data": {
      "text/plain": [
       "Index(['merchant', 'category', 'gender', 'street', 'city', 'state', 'job',\n",
       "       'trans_num'],\n",
       "      dtype='object')"
      ]
     },
     "execution_count": 14,
     "metadata": {},
     "output_type": "execute_result"
    }
   ],
   "source": [
    "non_numeric_var = fraudTest.select_dtypes(include = \"object\").columns\n",
    "non_numeric_var"
   ]
  },
  {
   "cell_type": "code",
   "execution_count": 15,
   "id": "3f158425",
   "metadata": {},
   "outputs": [],
   "source": [
    "le = LabelEncoder()\n",
    "\n",
    "\n",
    "for var in non_numeric_var:\n",
    "    new_var = var + \"_le\" #rename the variables \n",
    "    fraudTest[new_var] = le.fit_transform(fraudTest[var]) \n",
    "    fraudTest.drop(var, axis = 1, inplace = True) #drop the non_numeric columns"
   ]
  },
  {
   "cell_type": "markdown",
   "id": "31379c74",
   "metadata": {},
   "source": [
    "**Split into indipendent and target variables**"
   ]
  },
  {
   "cell_type": "code",
   "execution_count": 16,
   "id": "b05abe6a",
   "metadata": {},
   "outputs": [],
   "source": [
    "# take a sample of the data to reduce training time\n",
    "\n",
    "fraudTest = fraudTest.sample(n = 200000)"
   ]
  },
  {
   "cell_type": "code",
   "execution_count": 17,
   "id": "1bbeecf3",
   "metadata": {},
   "outputs": [],
   "source": [
    "X = fraudTest.drop(\"is_fraud\", axis = 1)\n",
    "y = fraudTest[\"is_fraud\"]"
   ]
  },
  {
   "cell_type": "markdown",
   "id": "fee0c7a1",
   "metadata": {},
   "source": [
    "## Imbalanced Learning\n",
    "Since the fraudulent transaction were very low compared to non-fraudulent ones, imbalanced Learning had to be done to reduce overfittting.\n",
    "<br>\n",
    "The pie chart above depicts so.\n",
    "<br>\n",
    "Random Oversampling will increase the instances of the minority to create balance \n",
    "\n",
    "### Random OverSampling "
   ]
  },
  {
   "cell_type": "code",
   "execution_count": 18,
   "id": "d4660224",
   "metadata": {},
   "outputs": [],
   "source": [
    "ros = RandomOverSampler(random_state=42)\n",
    "X, y = ros.fit_resample(X, y)"
   ]
  },
  {
   "cell_type": "markdown",
   "id": "0fdeddb3",
   "metadata": {},
   "source": [
    "## Scaling the data (Min Max Scaler)"
   ]
  },
  {
   "cell_type": "code",
   "execution_count": 19,
   "id": "fd097b60",
   "metadata": {},
   "outputs": [],
   "source": [
    "\"\"\"\n",
    "MinMaxSacler scales the data to reduces the time taken for machine learning models to learn\n",
    "\"\"\"\n",
    "\n",
    "scaler = MinMaxScaler(feature_range=(0, 1))\n",
    "\n",
    "scaled_X = scaler.fit_transform(X)\n"
   ]
  },
  {
   "cell_type": "markdown",
   "id": "ab7b1c17",
   "metadata": {},
   "source": [
    "## Train Test Split "
   ]
  },
  {
   "cell_type": "code",
   "execution_count": 20,
   "id": "712c0471",
   "metadata": {},
   "outputs": [],
   "source": [
    "X_train, X_test, y_train, y_test = train_test_split(scaled_X, y, test_size = 0.3)"
   ]
  },
  {
   "cell_type": "markdown",
   "id": "08872db5",
   "metadata": {},
   "source": [
    "# Model Training "
   ]
  },
  {
   "cell_type": "markdown",
   "id": "2dcbd519",
   "metadata": {},
   "source": [
    "## Logistic Regression"
   ]
  },
  {
   "cell_type": "code",
   "execution_count": 21,
   "id": "8bf93da9",
   "metadata": {},
   "outputs": [],
   "source": [
    "LogReg = LogisticRegression(random_state = 42)"
   ]
  },
  {
   "cell_type": "code",
   "execution_count": 22,
   "id": "5ad3099e",
   "metadata": {},
   "outputs": [
    {
     "data": {
      "text/plain": [
       "LogisticRegression(random_state=42)"
      ]
     },
     "execution_count": 22,
     "metadata": {},
     "output_type": "execute_result"
    }
   ],
   "source": [
    "LogReg.fit(X_train, y_train)"
   ]
  },
  {
   "cell_type": "markdown",
   "id": "149ecd27",
   "metadata": {},
   "source": [
    "## Decision Tree Classifier"
   ]
  },
  {
   "cell_type": "code",
   "execution_count": 23,
   "id": "8904e590",
   "metadata": {},
   "outputs": [],
   "source": [
    "dt_clf = DecisionTreeClassifier(random_state = 42)"
   ]
  },
  {
   "cell_type": "code",
   "execution_count": 24,
   "id": "dbb7565f",
   "metadata": {},
   "outputs": [
    {
     "data": {
      "text/plain": [
       "DecisionTreeClassifier(random_state=42)"
      ]
     },
     "execution_count": 24,
     "metadata": {},
     "output_type": "execute_result"
    }
   ],
   "source": [
    "dt_clf.fit(X_train, y_train)"
   ]
  },
  {
   "cell_type": "markdown",
   "id": "3601d6c4",
   "metadata": {},
   "source": [
    "## Random Forest Classifier"
   ]
  },
  {
   "cell_type": "code",
   "execution_count": 25,
   "id": "7866333e",
   "metadata": {},
   "outputs": [],
   "source": [
    "rf_clf = RandomForestClassifier(random_state = 42)"
   ]
  },
  {
   "cell_type": "code",
   "execution_count": 26,
   "id": "33a4d1fb",
   "metadata": {},
   "outputs": [
    {
     "data": {
      "text/plain": [
       "RandomForestClassifier(random_state=42)"
      ]
     },
     "execution_count": 26,
     "metadata": {},
     "output_type": "execute_result"
    }
   ],
   "source": [
    "rf_clf.fit(X_train, y_train)"
   ]
  },
  {
   "cell_type": "markdown",
   "id": "07fb1414",
   "metadata": {},
   "source": [
    "## Naive Bayes "
   ]
  },
  {
   "cell_type": "code",
   "execution_count": 29,
   "id": "df6a83a5",
   "metadata": {},
   "outputs": [],
   "source": [
    "naive_clf = GaussianNB()"
   ]
  },
  {
   "cell_type": "code",
   "execution_count": 30,
   "id": "366d28e7",
   "metadata": {},
   "outputs": [
    {
     "data": {
      "text/plain": [
       "GaussianNB()"
      ]
     },
     "execution_count": 30,
     "metadata": {},
     "output_type": "execute_result"
    }
   ],
   "source": [
    "naive_clf.fit(X_train, y_train)"
   ]
  },
  {
   "cell_type": "markdown",
   "id": "c605a900",
   "metadata": {},
   "source": [
    "## TensorFlow (Neural Networks)"
   ]
  },
  {
   "cell_type": "markdown",
   "id": "8ff259a4",
   "metadata": {},
   "source": [
    "### build a model"
   ]
  },
  {
   "cell_type": "code",
   "execution_count": 31,
   "id": "52d2e95c",
   "metadata": {},
   "outputs": [
    {
     "name": "stderr",
     "output_type": "stream",
     "text": [
      "2021-09-27 23:06:38.110354: I tensorflow/stream_executor/platform/default/dso_loader.cc:53] Successfully opened dynamic library libcuda.so.1\n"
     ]
    },
    {
     "name": "stdout",
     "output_type": "stream",
     "text": [
      "Model: \"sequential\"\n",
      "_________________________________________________________________\n",
      "Layer (type)                 Output Shape              Param #   \n",
      "=================================================================\n",
      "dense (Dense)                (None, 16)                288       \n",
      "_________________________________________________________________\n",
      "dense_1 (Dense)              (None, 16)                272       \n",
      "_________________________________________________________________\n",
      "dense_2 (Dense)              (None, 1)                 17        \n",
      "=================================================================\n",
      "Total params: 577\n",
      "Trainable params: 577\n",
      "Non-trainable params: 0\n",
      "_________________________________________________________________\n"
     ]
    },
    {
     "name": "stderr",
     "output_type": "stream",
     "text": [
      "2021-09-27 23:06:38.377160: E tensorflow/stream_executor/cuda/cuda_driver.cc:328] failed call to cuInit: CUDA_ERROR_UNKNOWN: unknown error\n",
      "2021-09-27 23:06:38.398216: I tensorflow/stream_executor/cuda/cuda_diagnostics.cc:156] kernel driver does not appear to be running on this host (street-analyst): /proc/driver/nvidia/version does not exist\n"
     ]
    }
   ],
   "source": [
    "model = Sequential()\n",
    "model.add(Dense(16, input_shape=(X.shape[1],), activation='relu')) # Add an input shape! (features,)\n",
    "model.add(Dense(16, activation='relu'))\n",
    "model.add(Dense(1, activation='sigmoid'))\n",
    "model.summary() "
   ]
  },
  {
   "cell_type": "markdown",
   "id": "54a20334",
   "metadata": {},
   "source": [
    "### compile the model"
   ]
  },
  {
   "cell_type": "code",
   "execution_count": 32,
   "id": "7ba0feb2",
   "metadata": {},
   "outputs": [],
   "source": [
    "model.compile(optimizer='Adam', \n",
    "              loss='binary_crossentropy',\n",
    "              metrics=['accuracy'])\n",
    "\n",
    "# early stopping callback\n",
    "# This callback will stop the training when there is no improvement in  \n",
    "# the validation loss for 10 consecutive epochs.  \n",
    "es = EarlyStopping(monitor='val_accuracy', \n",
    "                                   mode='max', # don't minimize the accuracy!\n",
    "                                   patience=10,\n",
    "                                   restore_best_weights=True)"
   ]
  },
  {
   "cell_type": "code",
   "execution_count": 33,
   "id": "d5802360",
   "metadata": {},
   "outputs": [
    {
     "name": "stderr",
     "output_type": "stream",
     "text": [
      "2021-09-27 23:06:42.657206: I tensorflow/compiler/mlir/mlir_graph_optimization_pass.cc:176] None of the MLIR Optimization Passes are enabled (registered 2)\n",
      "2021-09-27 23:06:42.723365: I tensorflow/core/platform/profile_utils/cpu_utils.cc:114] CPU Frequency: 2494430000 Hz\n"
     ]
    },
    {
     "name": "stdout",
     "output_type": "stream",
     "text": [
      "Epoch 1/10\n",
      "22316/22316 [==============================] - 40s 2ms/step - loss: 0.4037 - accuracy: 0.8141 - val_loss: 0.3502 - val_accuracy: 0.8385\n",
      "Epoch 2/10\n",
      "22316/22316 [==============================] - 38s 2ms/step - loss: 0.3415 - accuracy: 0.8453 - val_loss: 0.3285 - val_accuracy: 0.8471\n",
      "Epoch 3/10\n",
      "22316/22316 [==============================] - 37s 2ms/step - loss: 0.3150 - accuracy: 0.8564 - val_loss: 0.3042 - val_accuracy: 0.8691\n",
      "Epoch 4/10\n",
      "22316/22316 [==============================] - 37s 2ms/step - loss: 0.2881 - accuracy: 0.8712 - val_loss: 0.2758 - val_accuracy: 0.8790\n",
      "Epoch 5/10\n",
      "22316/22316 [==============================] - 39s 2ms/step - loss: 0.2739 - accuracy: 0.8783 - val_loss: 0.2795 - val_accuracy: 0.8758\n",
      "Epoch 6/10\n",
      "22316/22316 [==============================] - 38s 2ms/step - loss: 0.2648 - accuracy: 0.8830 - val_loss: 0.2601 - val_accuracy: 0.8899\n",
      "Epoch 7/10\n",
      "22316/22316 [==============================] - 42s 2ms/step - loss: 0.2590 - accuracy: 0.8854 - val_loss: 0.2787 - val_accuracy: 0.8802\n",
      "Epoch 8/10\n",
      "22316/22316 [==============================] - 40s 2ms/step - loss: 0.2540 - accuracy: 0.8874 - val_loss: 0.2410 - val_accuracy: 0.8891\n",
      "Epoch 9/10\n",
      "22316/22316 [==============================] - 39s 2ms/step - loss: 0.2492 - accuracy: 0.8896 - val_loss: 0.2426 - val_accuracy: 0.8912\n",
      "Epoch 10/10\n",
      "22316/22316 [==============================] - 38s 2ms/step - loss: 0.2460 - accuracy: 0.8913 - val_loss: 0.2391 - val_accuracy: 0.8966\n"
     ]
    }
   ],
   "source": [
    "TensorflowAmazonLex = model.fit(X_train,\n",
    "                    y_train,\n",
    "                    callbacks=[es],\n",
    "                    epochs=10,\n",
    "                    batch_size=10,\n",
    "                    validation_split=0.2,\n",
    "                    shuffle=True,\n",
    "                    verbose=1)"
   ]
  },
  {
   "cell_type": "markdown",
   "id": "f121a53a",
   "metadata": {},
   "source": [
    "# Evaluation of the models"
   ]
  },
  {
   "cell_type": "markdown",
   "id": "a2256e5f",
   "metadata": {},
   "source": [
    "## Predictions "
   ]
  },
  {
   "cell_type": "code",
   "execution_count": 34,
   "id": "e3291982",
   "metadata": {},
   "outputs": [],
   "source": [
    "# Logistic Regression\n",
    "LogRegY_pred = LogReg.predict(X_test)"
   ]
  },
  {
   "cell_type": "code",
   "execution_count": 35,
   "id": "3bdb0f2c",
   "metadata": {},
   "outputs": [],
   "source": [
    "# Decision Tree Classifier\n",
    "dt_clfY_pred = dt_clf.predict(X_test)"
   ]
  },
  {
   "cell_type": "code",
   "execution_count": 36,
   "id": "d0033041",
   "metadata": {},
   "outputs": [],
   "source": [
    "#Random Forest Classifier\n",
    "rf_clfY_pred = rf_clf.predict(X_test)"
   ]
  },
  {
   "cell_type": "code",
   "execution_count": 39,
   "id": "ef7c7622",
   "metadata": {},
   "outputs": [],
   "source": [
    "# Naive Bayes \n",
    "naive_clfY_pred = naive_clf.predict(X_test)"
   ]
  },
  {
   "cell_type": "code",
   "execution_count": 57,
   "id": "c5a24850",
   "metadata": {},
   "outputs": [],
   "source": [
    "# TensorFlow (Neural Networks)\n",
    "modelY_pred = model.predict(X_test)\n",
    "\n",
    "# convert to binary from continous\n",
    "TensorFlowY_pred = pd.cut(modelY_pred.flatten(), bins = 2, labels = False)"
   ]
  },
  {
   "cell_type": "markdown",
   "id": "34feb00d",
   "metadata": {},
   "source": [
    "## Accuracy Score"
   ]
  },
  {
   "cell_type": "code",
   "execution_count": 59,
   "id": "82f5f18b",
   "metadata": {
    "scrolled": true
   },
   "outputs": [
    {
     "name": "stdout",
     "output_type": "stream",
     "text": [
      "Logistic Regression: 0.845487243831033\n",
      "Decision Tree Classifier: 0.999155165202844\n",
      "Random Forest Classifier: 0.9997657883730656\n",
      "Naive Bayes: 0.8252864910079465\n",
      "TensorFlow: 0.8956168966959431\n"
     ]
    }
   ],
   "source": [
    "model_names = [\"TensorFlow\"]\n",
    "\n",
    "print(f\"Logistic Regression: {accuracy_score(y_test, LogRegY_pred)}\")\n",
    "print(f\"Decision Tree Classifier: {accuracy_score(y_test, dt_clfY_pred)}\")\n",
    "print(f\"Random Forest Classifier: {accuracy_score(y_test, rf_clfY_pred)}\")\n",
    "print(f\"Naive Bayes: {accuracy_score(y_test, naive_clfY_pred)}\")\n",
    "print(f\"TensorFlow: {accuracy_score(y_test, TensorFlowY_pred)}\")"
   ]
  },
  {
   "cell_type": "markdown",
   "id": "ae981d47",
   "metadata": {},
   "source": [
    "## Confusion Matrix"
   ]
  },
  {
   "cell_type": "code",
   "execution_count": 61,
   "id": "73456e43",
   "metadata": {},
   "outputs": [
    {
     "data": {
      "text/plain": [
       "<AxesSubplot:>"
      ]
     },
     "execution_count": 61,
     "metadata": {},
     "output_type": "execute_result"
    },
    {
     "data": {
      "image/png": "[encoded data removed]",
      "text/plain": [
       "<Figure size 432x288 with 2 Axes>"
      ]
     },
     "metadata": {},
     "output_type": "display_data"
    }
   ],
   "source": [
    "# Linear Regression\n",
    "LogReg_cm = confusion_matrix(y_test,LogRegY_pred)\n",
    "sns.heatmap(LogReg_cm,annot=True, cmap = \"PuBu\")"
   ]
  },
  {
   "cell_type": "code",
   "execution_count": 62,
   "id": "3828121d",
   "metadata": {},
   "outputs": [
    {
     "data": {
      "text/plain": [
       "<AxesSubplot:>"
      ]
     },
     "execution_count": 62,
     "metadata": {},
     "output_type": "execute_result"
    },
    {
     "data": {
      "image/png": "[encoded data removed]",
      "text/plain": [
       "<Figure size 432x288 with 2 Axes>"
      ]
     },
     "metadata": {},
     "output_type": "display_data"
    }
   ],
   "source": [
    "#Decision Tree Classifier\n",
    "\n",
    "dt_clf_cm = confusion_matrix(y_test,dt_clfY_pred)\n",
    "sns.heatmap(dt_clf_cm,annot=True, cmap = \"PuBu\")"
   ]
  },
  {
   "cell_type": "code",
   "execution_count": 63,
   "id": "44fb4877",
   "metadata": {},
   "outputs": [
    {
     "data": {
      "text/plain": [
       "<AxesSubplot:>"
      ]
     },
     "execution_count": 63,
     "metadata": {},
     "output_type": "execute_result"
    },
    {
     "data": {
      "image/png": "[encoded data removed]",
      "text/plain": [
       "<Figure size 432x288 with 2 Axes>"
      ]
     },
     "metadata": {},
     "output_type": "display_data"
    }
   ],
   "source": [
    "# Random Forest Classifier\n",
    "\n",
    "rf_clf_cm = confusion_matrix(y_test,rf_clfY_pred)\n",
    "sns.heatmap(rf_clf_cm,annot=True, cmap = \"PuBu\")"
   ]
  },
  {
   "cell_type": "code",
   "execution_count": 64,
   "id": "2d7178e1",
   "metadata": {},
   "outputs": [
    {
     "data": {
      "text/plain": [
       "<AxesSubplot:>"
      ]
     },
     "execution_count": 64,
     "metadata": {},
     "output_type": "execute_result"
    },
    {
     "data": {
      "image/png": "[encoded data removed]",
      "text/plain": [
       "<Figure size 432x288 with 2 Axes>"
      ]
     },
     "metadata": {},
     "output_type": "display_data"
    }
   ],
   "source": [
    "# Naive Bayes\n",
    "\n",
    "naive_clf_cm = confusion_matrix(y_test,naive_clfY_pred)\n",
    "sns.heatmap(naive_clf_cm,annot=True, cmap = \"PuBu\")"
   ]
  },
  {
   "cell_type": "code",
   "execution_count": 65,
   "id": "f05085a2",
   "metadata": {},
   "outputs": [
    {
     "data": {
      "text/plain": [
       "<AxesSubplot:>"
      ]
     },
     "execution_count": 65,
     "metadata": {},
     "output_type": "execute_result"
    },
    {
     "data": {
      "image/png": "[encoded data removed]",
      "text/plain": [
       "<Figure size 432x288 with 2 Axes>"
      ]
     },
     "metadata": {},
     "output_type": "display_data"
    }
   ],
   "source": [
    "# TensorFlow\n",
    "\n",
    "TensorFlow_cm = confusion_matrix(y_test,TensorFlowY_pred)\n",
    "sns.heatmap(TensorFlow_cm,annot=True, cmap = \"PuBu\")"
   ]
  },
  {
   "cell_type": "markdown",
   "id": "20cc0491",
   "metadata": {},
   "source": [
    "## ROC curve"
   ]
  },
  {
   "cell_type": "code",
   "execution_count": 70,
   "id": "2620548f",
   "metadata": {},
   "outputs": [
    {
     "data": {
      "image/png": "[encoded data removed]",
      "text/plain": [
       "<Figure size 432x288 with 1 Axes>"
      ]
     },
     "metadata": {},
     "output_type": "display_data"
    }
   ],
   "source": [
    "## Logistic Regression Model\n",
    "prob = LogReg.predict_proba(X_test)[:,1]\n",
    "fpr,tpr,threshold = roc_curve(y_test,prob)\n",
    "#Plotting Roc Curve\n",
    "plt.plot(fpr,tpr)\n",
    "plt.plot([[0,0],[1,1]],color='red',linestyle = '-')\n",
    "plt.xlabel('FPR')\n",
    "plt.ylabel('TPR')\n",
    "plt.title('Logistic Regression ROC Curve')\n",
    "plt.show()"
   ]
  },
  {
   "cell_type": "code",
   "execution_count": 71,
   "id": "246c6e86",
   "metadata": {},
   "outputs": [
    {
     "data": {
      "image/png": "[encoded data removed]",
      "text/plain": [
       "<Figure size 432x288 with 1 Axes>"
      ]
     },
     "metadata": {},
     "output_type": "display_data"
    }
   ],
   "source": [
    "## Decision Tree Classifier Model\n",
    "prob = dt_clf.predict_proba(X_test)[:,1]\n",
    "fpr,tpr,threshold = roc_curve(y_test,prob)\n",
    "#Plotting Roc Curve\n",
    "plt.plot(fpr,tpr)\n",
    "plt.plot([[0,0],[1,1]],color='red',linestyle = '-')\n",
    "plt.xlabel('FPR')\n",
    "plt.ylabel('TPR')\n",
    "plt.title('Decision Tree Classifier ROC Curve')\n",
    "plt.show()"
   ]
  },
  {
   "cell_type": "code",
   "execution_count": 72,
   "id": "b8e558d2",
   "metadata": {},
   "outputs": [
    {
     "data": {
      "image/png": "[encoded data removed]",
      "text/plain": [
       "<Figure size 432x288 with 1 Axes>"
      ]
     },
     "metadata": {},
     "output_type": "display_data"
    }
   ],
   "source": [
    "## Random Forest Classifier Model\n",
    "prob = rf_clf.predict_proba(X_test)[:,1]\n",
    "fpr,tpr,threshold = roc_curve(y_test,prob)\n",
    "#Plotting Roc Curve\n",
    "plt.plot(fpr,tpr)\n",
    "plt.plot([[0,0],[1,1]],color='red',linestyle = '-')\n",
    "plt.xlabel('FPR')\n",
    "plt.ylabel('TPR')\n",
    "plt.title('Random Forest Classifier ROC Curve')\n",
    "plt.show()"
   ]
  },
  {
   "cell_type": "code",
   "execution_count": 73,
   "id": "385c4380",
   "metadata": {
    "scrolled": true
   },
   "outputs": [
    {
     "data": {
      "image/png": "[encoded data removed]",
      "text/plain": [
       "<Figure size 432x288 with 1 Axes>"
      ]
     },
     "metadata": {},
     "output_type": "display_data"
    }
   ],
   "source": [
    "## Naive Bayes Model\n",
    "prob = naive_clf.predict_proba(X_test)[:,1]\n",
    "fpr,tpr,threshold = roc_curve(y_test,prob)\n",
    "#Plotting Roc Curve\n",
    "plt.plot(fpr,tpr)\n",
    "plt.plot([[0,0],[1,1]],color='red',linestyle = '-')\n",
    "plt.xlabel('FPR')\n",
    "plt.ylabel('TPR')\n",
    "plt.title('Naive Bayes ROC Curve')\n",
    "plt.show()"
   ]
  },
  {
   "cell_type": "markdown",
   "id": "008e3154",
   "metadata": {},
   "source": [
    "## Classification Report"
   ]
  },
  {
   "cell_type": "code",
   "execution_count": 77,
   "id": "8a27a1ef",
   "metadata": {},
   "outputs": [
    {
     "name": "stdout",
     "output_type": "stream",
     "text": [
      "              precision    recall  f1-score   support\n",
      "\n",
      "           0       0.79      0.94      0.86     59913\n",
      "           1       0.92      0.75      0.83     59637\n",
      "\n",
      "    accuracy                           0.85    119550\n",
      "   macro avg       0.86      0.85      0.84    119550\n",
      "weighted avg       0.86      0.85      0.84    119550\n",
      "\n"
     ]
    }
   ],
   "source": [
    "# Logistic regression\n",
    "LogRegReport = classification_report(y_test, LogRegY_pred)\n",
    "print(LogRegReport)"
   ]
  },
  {
   "cell_type": "code",
   "execution_count": 78,
   "id": "217a3ee1",
   "metadata": {},
   "outputs": [
    {
     "name": "stdout",
     "output_type": "stream",
     "text": [
      "              precision    recall  f1-score   support\n",
      "\n",
      "           0       1.00      1.00      1.00     59913\n",
      "           1       1.00      1.00      1.00     59637\n",
      "\n",
      "    accuracy                           1.00    119550\n",
      "   macro avg       1.00      1.00      1.00    119550\n",
      "weighted avg       1.00      1.00      1.00    119550\n",
      "\n"
     ]
    }
   ],
   "source": [
    "# Decision Tree Classifier\n",
    "dt_clfReport = classification_report(y_test, dt_clfY_pred)\n",
    "print(dt_clfReport)"
   ]
  },
  {
   "cell_type": "code",
   "execution_count": 79,
   "id": "48a03010",
   "metadata": {},
   "outputs": [
    {
     "name": "stdout",
     "output_type": "stream",
     "text": [
      "              precision    recall  f1-score   support\n",
      "\n",
      "           0       1.00      1.00      1.00     59913\n",
      "           1       1.00      1.00      1.00     59637\n",
      "\n",
      "    accuracy                           1.00    119550\n",
      "   macro avg       1.00      1.00      1.00    119550\n",
      "weighted avg       1.00      1.00      1.00    119550\n",
      "\n"
     ]
    }
   ],
   "source": [
    "# Random Forest Classifier\n",
    "rf_clfReport = classification_report(y_test, rf_clfY_pred)\n",
    "print(rf_clfReport)"
   ]
  },
  {
   "cell_type": "code",
   "execution_count": 80,
   "id": "1bee2d91",
   "metadata": {},
   "outputs": [
    {
     "name": "stdout",
     "output_type": "stream",
     "text": [
      "              precision    recall  f1-score   support\n",
      "\n",
      "           0       0.75      0.98      0.85     59913\n",
      "           1       0.97      0.67      0.79     59637\n",
      "\n",
      "    accuracy                           0.83    119550\n",
      "   macro avg       0.86      0.82      0.82    119550\n",
      "weighted avg       0.86      0.83      0.82    119550\n",
      "\n"
     ]
    }
   ],
   "source": [
    "# Naive Bayes\n",
    "naive_clfReport = classification_report(y_test, naive_clfY_pred)\n",
    "print(naive_clfReport)"
   ]
  },
  {
   "cell_type": "code",
   "execution_count": 83,
   "id": "3ff76fde",
   "metadata": {},
   "outputs": [
    {
     "name": "stdout",
     "output_type": "stream",
     "text": [
      "              precision    recall  f1-score   support\n",
      "\n",
      "           0       0.90      0.89      0.90     59913\n",
      "           1       0.89      0.90      0.90     59637\n",
      "\n",
      "    accuracy                           0.90    119550\n",
      "   macro avg       0.90      0.90      0.90    119550\n",
      "weighted avg       0.90      0.90      0.90    119550\n",
      "\n"
     ]
    }
   ],
   "source": [
    "# TensorFlow Amazon Lex\n",
    "\n",
    "TensorFlowReport = classification_report(y_test, TensorFlowY_pred)\n",
    "print(TensorFlowReport)"
   ]
  },
  {
   "cell_type": "markdown",
   "id": "2f95c7e8",
   "metadata": {},
   "source": [
    "# Conclusion"
   ]
  },
  {
   "cell_type": "markdown",
   "id": "17af497f",
   "metadata": {},
   "source": [
    "The finding from the visualizations were:\n",
    "\n",
    "* Most of the people in the data were in middle age gap(35 to 45).\n",
    "* Fraudulent Transactions were very few compared to non-fraudulent transactions.\n",
    "* More Female customers were transacted than Males customers.\n",
    "* Merch Long and Long variables were most correlated.\n",
    "* Merchant Long and zip code were least correlated as from the correlation heatmap\n",
    "<br>\n",
    "\n",
    "The categorical data was then converted to numerical by Label encoding and a sample of the data taken to reduce time and memory consumption during training.\n",
    "\n",
    "<br>\n",
    "Since the target variable had an imbalance, random oversampling was done to create a balance between the binary variables \n",
    "\n",
    "The indipendent variables were scaled in the range of 0 to 1 to reduce time taken during training.\n",
    "<br>\n",
    "\n",
    "The data was then split into train an test data\n",
    "<br>\n",
    "\n",
    "The train data was fitted into machine learning models of scikit learn and tensor flow.\n",
    "\n",
    "The models include:\n",
    "* Logistic Regression\n",
    "* Decision Tree Classifier\n",
    "* Random Forest Classifier\n",
    "* Naive Bayes\n",
    "* TensorFlow Amazon Lex\n",
    "\n",
    "The models were therefore tested on the test data.\n",
    "\n",
    "The best performing model was Decision Tree and Random Forest Classifier\n",
    "\n",
    "The following methods of evaulation were implemented to evaluate the models' perfomance\n",
    "* Accuracy Score\n",
    "* confusion Matrix\n",
    "* ROC Curve\n",
    "* Classification Report\n",
    "\n",
    "Logistic Regression performed satifactory well but was the least performed when evaluatedThe finding from the visualizations were:\n",
    "\n",
    "* Most of the people in the data were in middle age gap(35 to 45).\n",
    "* Fraudulent Transactions were very few compared to non-fraudulent transactions.\n",
    "* More Female customers were transacted than Males customers.\n",
    "* Merch Long and Long variables were most correlated.\n",
    "* Merchant Long and zip code were least correlated as from the correlation heatmap\n",
    "<br>\n",
    "\n",
    "The categorical data was then converted to numerical by Label encoding and a sample of the data taken to reduce time and memory consumption during training.\n",
    "\n",
    "<br>\n",
    "\n",
    "README\n",
    "Since the target variable had an imbalance, random oversampling was done to create a balance between the binary variables \n",
    "\n",
    "The indipendent variables were scaled in the range of 0 to 1 to reduce time taken during training.\n",
    "<br>\n",
    "\n",
    "The data was then split into train an test data\n",
    "<br>\n",
    "\n",
    "The train data was fitted into machine learning models of scikit learn and tensor flow.\n",
    "\n",
    "The models include:\n",
    "* Logistic Regression\n",
    "* Decision Tree Classifier\n",
    "* Random Forest Classifier\n",
    "* Naive Bayes\n",
    "* TensorFlow Amazon Lex\n",
    "\n",
    "The models were therefore tested on the test data.\n",
    "\n",
    "The best performing model was Decision Tree and Random Forest Classifier\n",
    "\n",
    "The following methods of evaulation were implemented to evaluate the models' perfomance\n",
    "* Accuracy Score\n",
    "* confusion Matrix\n",
    "* ROC Curve\n",
    "* Classification Report\n",
    "\n",
    "Logistic Regression performed satifactory well but was the least performed when evaluated "
   ]
  }
 ],
 "metadata": {
  "kernelspec": {
   "display_name": "Python 3",
   "language": "python",
   "name": "python3"
  },
  "language_info": {
   "codemirror_mode": {
    "name": "ipython",
    "version": 3
   },
   "file_extension": ".py",
   "mimetype": "text/x-python",
   "name": "python",
   "nbconvert_exporter": "python",
   "pygments_lexer": "ipython3",
   "version": "3.8.5"
  }
 },
 "nbformat": 4,
 "nbformat_minor": 5
}
